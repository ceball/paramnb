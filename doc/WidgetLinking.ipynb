{
 "cells": [
  {
   "cell_type": "code",
   "execution_count": null,
   "metadata": {
    "collapsed": true
   },
   "outputs": [],
   "source": [
    "import param\n",
    "import paramnb"
   ]
  },
  {
   "cell_type": "code",
   "execution_count": null,
   "metadata": {
    "collapsed": true
   },
   "outputs": [],
   "source": [
    "class SomeManagement(param.Parameterized):\n",
    "    employee = param.ObjectSelector(default='Person Z',objects=['Person X','Person Y','Person Z'])\n",
    "    project = param.ObjectSelector(default='A',objects=['A','B','C','D','E','F','G','H'])\n",
    "    days = param.Integer(default=1,softbounds=(0,10),precedence=1)"
   ]
  },
  {
   "cell_type": "code",
   "execution_count": null,
   "metadata": {
    "collapsed": true
   },
   "outputs": [],
   "source": [
    "m = SomeManagement()"
   ]
  },
  {
   "cell_type": "code",
   "execution_count": null,
   "metadata": {
    "collapsed": true
   },
   "outputs": [],
   "source": [
    "capabilities = {  \n",
    "    'Person X' : ('A','B','C','D'),\n",
    "    'Person Y' : ('A','B','E','F'),\n",
    "    'Person Z' : ('G','H'),\n",
    "}"
   ]
  },
  {
   "cell_type": "code",
   "execution_count": null,
   "metadata": {
    "collapsed": true
   },
   "outputs": [],
   "source": [
    "speed = {\n",
    "    'Person X' : 10,\n",
    "    'Person Y' : 20,\n",
    "    'Person Z' : 30,\n",
    "}"
   ]
  },
  {
   "cell_type": "code",
   "execution_count": null,
   "metadata": {
    "collapsed": true
   },
   "outputs": [],
   "source": [
    "def update_days(widgets,**params):\n",
    "    widgets['days'].max = speed[params['employee']]"
   ]
  },
  {
   "cell_type": "code",
   "execution_count": null,
   "metadata": {
    "collapsed": true
   },
   "outputs": [],
   "source": [
    "def update_projects(widgets,**params):\n",
    "    widgets['project'].options = capabilities[params['employee']]"
   ]
  },
  {
   "cell_type": "code",
   "execution_count": null,
   "metadata": {
    "collapsed": true
   },
   "outputs": [],
   "source": [
    "paramnb.Widgets(m, watchers={'employee':(update_projects,update_days)})"
   ]
  }
 ],
 "metadata": {
  "anaconda-cloud": {},
  "hide_input": false,
  "kernelspec": {
   "display_name": "Python 3",
   "language": "python",
   "name": "python3"
  },
  "language_info": {
   "codemirror_mode": {
    "name": "ipython",
    "version": 3
   },
   "file_extension": ".py",
   "mimetype": "text/x-python",
   "name": "python",
   "nbconvert_exporter": "python",
   "pygments_lexer": "ipython3",
   "version": "3.6.0"
  }
 },
 "nbformat": 4,
 "nbformat_minor": 1
}
