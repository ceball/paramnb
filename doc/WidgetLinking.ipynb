{
 "cells": [
  {
   "cell_type": "code",
   "execution_count": null,
   "metadata": {
    "collapsed": true
   },
   "outputs": [],
   "source": [
    "import param\n",
    "import paramnb"
   ]
  },
  {
   "cell_type": "code",
   "execution_count": null,
   "metadata": {
    "collapsed": true
   },
   "outputs": [],
   "source": [
    "# we'd add get_soft_range() to relevant parameters in param\n",
    "class ObjectSelector2(param.ObjectSelector):\n",
    "    __slots__ = ['softbounds']\n",
    "    def __init__(self,default=None,objects=None,instantiate=False,\n",
    "                 compute_default_fn=None,check_on_set=None,allow_None=None,softbounds=None,**params): \n",
    "        self.softbounds=softbounds if softbounds is not None else objects        \n",
    "        super(ObjectSelector2,self).__init__(\n",
    "            default=default,objects=objects,instantiate=instantiate,\n",
    "            compute_default_fn=compute_default_fn,check_on_set=check_on_set,allow_None=allow_None,**params)\n",
    "        \n",
    "    def get_soft_range(self):\n",
    "        return param.named_objs(self.softbounds)\n",
    "\n",
    "param.ObjectSelector2 = ObjectSelector2"
   ]
  },
  {
   "cell_type": "code",
   "execution_count": null,
   "metadata": {},
   "outputs": [],
   "source": [
    "class SomeManagement(param.Parameterized):\n",
    "    employee = param.ObjectSelector2(default='Person Z',objects=['Person X','Person Y','Person Z'])\n",
    "    project = param.ObjectSelector2(default='A',objects=['A','B','C','D','E','F','G','H'])\n",
    "    days = param.Integer(default=1,softbounds=(0,10),precedence=1)"
   ]
  },
  {
   "cell_type": "code",
   "execution_count": null,
   "metadata": {
    "collapsed": true
   },
   "outputs": [],
   "source": [
    "m = SomeManagement()"
   ]
  },
  {
   "cell_type": "code",
   "execution_count": null,
   "metadata": {
    "collapsed": true
   },
   "outputs": [],
   "source": [
    "capabilities = {  \n",
    "    'Person X' : ('A','B','C','D'),\n",
    "    'Person Y' : ('A','B','E','F'),\n",
    "    'Person Z' : ('G','H'),\n",
    "}"
   ]
  },
  {
   "cell_type": "code",
   "execution_count": null,
   "metadata": {
    "collapsed": true
   },
   "outputs": [],
   "source": [
    "speed = {\n",
    "    'Person X' : 10,\n",
    "    'Person Y' : 20,\n",
    "    'Person Z' : 30,\n",
    "}"
   ]
  },
  {
   "cell_type": "code",
   "execution_count": null,
   "metadata": {
    "collapsed": true
   },
   "outputs": [],
   "source": [
    "def update_days(parameterized):\n",
    "    parameterized.params('days').softbounds = (0,speed[parameterized.employee])"
   ]
  },
  {
   "cell_type": "code",
   "execution_count": null,
   "metadata": {
    "collapsed": true
   },
   "outputs": [],
   "source": [
    "def update_projects(parameterized):\n",
    "    parameterized.params('project').softbounds = capabilities[parameterized.employee]"
   ]
  },
  {
   "cell_type": "code",
   "execution_count": null,
   "metadata": {
    "scrolled": false
   },
   "outputs": [],
   "source": [
    "paramnb.Widgets(m, watchers={'employee':(update_projects,update_days)})"
   ]
  }
 ],
 "metadata": {
  "anaconda-cloud": {},
  "hide_input": false,
  "kernelspec": {
   "display_name": "Python 3",
   "language": "python",
   "name": "python3"
  },
  "language_info": {
   "codemirror_mode": {
    "name": "ipython",
    "version": 3
   },
   "file_extension": ".py",
   "mimetype": "text/x-python",
   "name": "python",
   "nbconvert_exporter": "python",
   "pygments_lexer": "ipython3",
   "version": "3.6.0"
  }
 },
 "nbformat": 4,
 "nbformat_minor": 1
}
