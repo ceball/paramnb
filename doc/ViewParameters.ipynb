{
 "cells": [
  {
   "cell_type": "code",
   "execution_count": null,
   "metadata": {
    "collapsed": false,
    "deletable": true,
    "editable": true
   },
   "outputs": [],
   "source": [
    "import param\n",
    "import paramnb\n",
    "import numpy as np\n",
    "import pandas as pd"
   ]
  },
  {
   "cell_type": "markdown",
   "metadata": {
    "deletable": true,
    "editable": true
   },
   "source": [
    "The paramNB library provides an easy way to manipulate parameters on ``Parameterized`` using the widgets in the notebook. In addition to controlling input parameters a common usecase for using widgets in the notebook is to dynamically control some visual display output. In addition to all the standard parameters supplied by the ``param`` library, ``paramNB`` also supplies so called ``View`` parameters, which render their output in a widget area. The output parameters may be updated simply by setting the parameter on the class.\n",
    "\n",
    "In the first simple example we will declare a Parameterized class with a ``Number`` parameter called magnitude and an ``HTML`` parameter which will let us display some arbitrary HTML. In this case we will simply generate a pandas dataframe with random data within the update method and use the ``to_html`` method to convert it to an HTML table. If we define the ``update`` method as the callback of the widgets the table will now update whenever the slider is dragged."
   ]
  },
  {
   "cell_type": "code",
   "execution_count": null,
   "metadata": {
    "collapsed": false,
    "deletable": true,
    "editable": true
   },
   "outputs": [],
   "source": [
    "class Example(param.Parameterized):\n",
    "    \n",
    "    magnitude = param.Number(1, bounds=(0, 10))\n",
    "    \n",
    "    output = paramnb.view.HTML()\n",
    "    \n",
    "    def update(self):\n",
    "        self.output = pd.DataFrame(np.random.rand(10,2)*self.magnitude).to_html()\n",
    "\n",
    "example = Example()\n",
    "paramnb.Widgets(example, callback=example.update)"
   ]
  },
  {
   "cell_type": "markdown",
   "metadata": {
    "deletable": true,
    "editable": true
   },
   "source": [
    "The ``HTML`` parameter accepts any arbitrary HTML string but for convenience paramNB also supplies a ``HView`` parameter to render ``HoloViews`` objects, which allows building complex GUIs and dashboards very easily. In this case we declare to parameters to control the ``amplitude`` and ``frequency`` of a sine curve and then declare an ``HView`` parameter to display the output. Additionally we can declare the ``view_position``, which declares where the viewing widget will be placed in relation to the input widgets:"
   ]
  },
  {
   "cell_type": "code",
   "execution_count": null,
   "metadata": {
    "collapsed": false,
    "deletable": true,
    "editable": true
   },
   "outputs": [],
   "source": [
    "import holoviews as hv\n",
    "import holoviews.plotting.mpl\n",
    "\n",
    "class Example(param.Parameterized):\n",
    "    \n",
    "    amplitude = param.Number(default=2, bounds=(2, 5))\n",
    "    \n",
    "    frequency = param.Number(default=2, bounds=(1, 10))\n",
    "    \n",
    "    output = paramnb.view.HView()\n",
    "\n",
    "    def update(self):\n",
    "        self.output = hv.Curve(self.amplitude*np.sin(np.linspace(0, np.pi*self.frequency)))\n",
    "\n",
    "example = Example()\n",
    "paramnb.Widgets(example, callback=example.update, view_position='right')"
   ]
  }
 ],
 "metadata": {
  "anaconda-cloud": {},
  "kernelspec": {
   "display_name": "Python [default]",
   "language": "python",
   "name": "python2"
  },
  "language_info": {
   "codemirror_mode": {
    "name": "ipython",
    "version": 2
   },
   "file_extension": ".py",
   "mimetype": "text/x-python",
   "name": "python",
   "nbconvert_exporter": "python",
   "pygments_lexer": "ipython2",
   "version": "2.7.11"
  }
 },
 "nbformat": 4,
 "nbformat_minor": 2
}
