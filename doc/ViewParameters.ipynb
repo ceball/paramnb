{
 "cells": [
  {
   "cell_type": "code",
   "execution_count": null,
   "metadata": {
    "collapsed": false,
    "deletable": true,
    "editable": true
   },
   "outputs": [],
   "source": [
    "import param\n",
    "import paramnb\n",
    "import numpy as np\n",
    "import pandas as pd"
   ]
  },
  {
   "cell_type": "markdown",
   "metadata": {
    "deletable": true,
    "editable": true
   },
   "source": [
    "The paramNB library provides an easy way to manipulate parameters on ``Parameterized`` using the widgets in the notebook. In addition to controlling input parameters a common usecase for using widgets in the notebook is to dynamically control some visual display output. In addition to all the standard parameters supplied by the ``param`` library, ``paramNB`` also supplies so called ``View`` parameters, which render their output in a widget area. The output parameters may be updated simply by setting the parameter on the class.\n",
    "\n",
    "In the first simple example we will declare a Parameterized class with a ``Number`` parameter called magnitude and an ``HTML`` parameter which will let us display some arbitrary HTML. In this case we will simply generate a pandas dataframe with random data within the update method and use the ``to_html`` method to convert it to an HTML table. If we define the ``update`` method as the callback of the widgets the table will now update whenever the slider is dragged. To ensure that the output is drawn on initialization we set ``on_init=True``."
   ]
  },
  {
   "cell_type": "code",
   "execution_count": null,
   "metadata": {
    "collapsed": false,
    "deletable": true,
    "editable": true
   },
   "outputs": [],
   "source": [
    "class HTMLExample(param.Parameterized):\n",
    "    \n",
    "    magnitude = param.Number(1, bounds=(0, 10))\n",
    "\n",
    "    output = paramnb.view.HTML()\n",
    "    \n",
    "    def update(self, **kwargs):\n",
    "        self.output = pd.DataFrame(np.random.rand(10,2)*self.magnitude).to_html()\n",
    "\n",
    "example = HTMLExample(name='HTMLExample')\n",
    "paramnb.Widgets(example, on_init=True, callback=example.update)"
   ]
  },
  {
   "cell_type": "markdown",
   "metadata": {
    "deletable": true,
    "editable": true
   },
   "source": [
    "The ``HTML`` parameter accepts any arbitrary HTML string but for convenience paramNB also allows supplying a custom ``renderer`` function, which converts the view data to HTML. In this case we declare to parameters to control the ``amplitude`` and ``frequency`` of a sine curve and then declare an ``HTML`` parameter which uses a HoloViews MPLRenderer to render the output. Note that we can additionally supply the size of the output as a tuple of ``(width, height)`` in pixels, in this case (300, 300).\n",
    "\n",
    "Additionally we can declare the ``view_position``, which specifies where the viewing widget will be placed in relation to the input widgets:"
   ]
  },
  {
   "cell_type": "code",
   "execution_count": null,
   "metadata": {
    "collapsed": false,
    "deletable": true,
    "editable": true
   },
   "outputs": [],
   "source": [
    "import holoviews as hv\n",
    "import holoviews.plotting.mpl\n",
    "renderer = hv.Store.renderers['matplotlib']\n",
    "\n",
    "class ImageExample(param.Parameterized):\n",
    "\n",
    "    color = param.Color(default='#000000', precedence=0)\n",
    "\n",
    "    element = param.ObjectSelector(default=hv.Curve,\n",
    "                                   objects=[hv.Curve, hv.Scatter, hv.Area],\n",
    "                                   precedence=0)\n",
    "\n",
    "    amplitude = param.Number(default=2, bounds=(2, 5))\n",
    "    \n",
    "    frequency = param.Number(default=2, bounds=(1, 10))\n",
    "    \n",
    "    output = paramnb.view.Image(renderer=lambda x: (renderer(x)[0], (300, 300)))\n",
    "\n",
    "    def update(self, **kwargs):\n",
    "        self.output = self.element(self.amplitude*np.sin(np.linspace(0, np.pi*self.frequency)),\n",
    "                                  vdims=[hv.Dimension('y', range=(-5, 5))])(style=dict(color=self.color))\n",
    "\n",
    "example = ImageExample(name='HoloViews Example')\n",
    "paramnb.Widgets(example, callback=example.update, on_init=True, view_position='right')"
   ]
  }
 ],
 "metadata": {
  "language_info": {
   "codemirror_mode": {
    "name": "ipython",
    "version": 2
   },
   "file_extension": ".py",
   "mimetype": "text/x-python",
   "name": "python",
   "nbconvert_exporter": "python",
   "pygments_lexer": "ipython2",
   "version": "2.7.11"
  }
 },
 "nbformat": 4,
 "nbformat_minor": 2
}
